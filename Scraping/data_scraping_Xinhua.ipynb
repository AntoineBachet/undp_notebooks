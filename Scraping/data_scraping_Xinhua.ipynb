{
 "cells": [
  {
   "cell_type": "markdown",
   "metadata": {},
   "source": [
    "# Scraping Xinhua"
   ]
  },
  {
   "cell_type": "code",
   "execution_count": 2,
   "metadata": {},
   "outputs": [],
   "source": [
    "import requests\n",
    "from bs4 import BeautifulSoup\n",
    "import pandas as pd\n",
    "from selenium import webdriver\n",
    "from selenium.webdriver.common.keys import Keys\n",
    "from selenium.webdriver.common.by import By\n",
    "import time"
   ]
  },
  {
   "cell_type": "code",
   "execution_count": 18,
   "metadata": {},
   "outputs": [],
   "source": [
    "url = 'http://www.xinhuanet.com/english/list/china-politics.htm'\n",
    "driver = webdriver.Chrome('C:/chromedriver.exe')\n",
    "driver.get(url)\n",
    "PAUSE_TIME = 2\n",
    "N = 3\n",
    "text_final = []\n",
    "count = 0\n",
    "while True:\n",
    "    time.sleep(PAUSE_TIME)\n",
    "    texts = driver.find_elements(By.XPATH,\"//li[@class = 'clearfix']/h3/a\") + driver.find_elements(By.XPATH,\"//li[@class = 'hx clearfix']/h3/a\")\n",
    "    for text in texts:\n",
    "        try:\n",
    "            text_final.append(text.text)\n",
    "        except:\n",
    "            text_final.append(None)\n",
    "    if driver.find_elements(By.XPATH,\"//div[@id='wPaginate8']/div/span\")[-3].text == '20':\n",
    "        count+=1\n",
    "        if count == 3:\n",
    "            break        \n",
    "    span = driver.find_elements(By.XPATH,\"//div[@id='wPaginate8']/div/span\")[-2]\n",
    "    span.click()\n",
    "driver.close()"
   ]
  },
  {
   "cell_type": "code",
   "execution_count": 24,
   "metadata": {},
   "outputs": [],
   "source": [
    "df = pd.DataFrame()\n",
    "df['TEXT']=text_final\n",
    "df['CATEGORY'] = ['politics China' for i in range(df.shape[0])]\n",
    "df = df.drop_duplicates()\n",
    "df['INDEX'] = [i for i in range(df.shape[0])]\n",
    "df = df.set_index('INDEX')\n",
    "df.to_csv('C:/users/antoi/desktop/data_UN/Xinhua/china_politics.csv')"
   ]
  }
 ],
 "metadata": {
  "kernelspec": {
   "display_name": "Python 3",
   "language": "python",
   "name": "python3"
  },
  "language_info": {
   "codemirror_mode": {
    "name": "ipython",
    "version": 3
   },
   "file_extension": ".py",
   "mimetype": "text/x-python",
   "name": "python",
   "nbconvert_exporter": "python",
   "pygments_lexer": "ipython3",
   "version": "3.6.5"
  }
 },
 "nbformat": 4,
 "nbformat_minor": 2
}
